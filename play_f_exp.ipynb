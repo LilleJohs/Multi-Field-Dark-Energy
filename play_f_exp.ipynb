{
 "cells": [
  {
   "cell_type": "code",
   "execution_count": 1,
   "metadata": {},
   "outputs": [
    {
     "ename": "KeyError",
     "evalue": "'potential'",
     "output_type": "error",
     "traceback": [
      "\u001b[1;31m---------------------------------------------------------------------------\u001b[0m",
      "\u001b[1;31mKeyError\u001b[0m                                  Traceback (most recent call last)",
      "\u001b[1;32m~\\AppData\\Local\\Temp/ipykernel_19416/2879581424.py\u001b[0m in \u001b[0;36m<module>\u001b[1;34m\u001b[0m\n\u001b[0;32m     23\u001b[0m     \u001b[0mparams\u001b[0m\u001b[1;33m[\u001b[0m\u001b[1;34m'r0'\u001b[0m\u001b[1;33m]\u001b[0m \u001b[1;33m=\u001b[0m \u001b[0mr0\u001b[0m\u001b[1;33m\u001b[0m\u001b[1;33m\u001b[0m\u001b[0m\n\u001b[0;32m     24\u001b[0m     \u001b[1;31m#params['V0'] = V0\u001b[0m\u001b[1;33m\u001b[0m\u001b[1;33m\u001b[0m\u001b[0m\n\u001b[1;32m---> 25\u001b[1;33m     \u001b[0mc\u001b[0m \u001b[1;33m=\u001b[0m \u001b[0mMultiFieldDarkEnergy\u001b[0m\u001b[1;33m(\u001b[0m\u001b[0mmetric\u001b[0m\u001b[1;33m=\u001b[0m\u001b[1;34m'exp'\u001b[0m\u001b[1;33m,\u001b[0m \u001b[0mpotential\u001b[0m\u001b[1;33m=\u001b[0m\u001b[1;34m'exp_spinning'\u001b[0m\u001b[1;33m,\u001b[0m \u001b[0mparams\u001b[0m\u001b[1;33m=\u001b[0m\u001b[0mparams\u001b[0m\u001b[1;33m,\u001b[0m \u001b[0mN_min\u001b[0m \u001b[1;33m=\u001b[0m \u001b[1;36m0\u001b[0m\u001b[1;33m,\u001b[0m \u001b[0mN_max\u001b[0m \u001b[1;33m=\u001b[0m \u001b[1;36m40\u001b[0m\u001b[1;33m,\u001b[0m \u001b[0mgamma\u001b[0m\u001b[1;33m=\u001b[0m\u001b[1;36m1\u001b[0m\u001b[1;33m)\u001b[0m\u001b[1;33m\u001b[0m\u001b[1;33m\u001b[0m\u001b[0m\n\u001b[0m\u001b[0;32m     26\u001b[0m     \u001b[0mc\u001b[0m\u001b[1;33m.\u001b[0m\u001b[0mrun_background_eq_of_motion\u001b[0m\u001b[1;33m(\u001b[0m\u001b[1;33m)\u001b[0m\u001b[1;33m\u001b[0m\u001b[1;33m\u001b[0m\u001b[0m\n\u001b[0;32m     27\u001b[0m     \u001b[0mc\u001b[0m\u001b[1;33m.\u001b[0m\u001b[0mx_y_phase_plot\u001b[0m\u001b[1;33m(\u001b[0m\u001b[1;33m)\u001b[0m\u001b[1;33m\u001b[0m\u001b[1;33m\u001b[0m\u001b[0m\n",
      "\u001b[1;32mc:\\Users\\johan\\OneDrive\\Dokumenter\\Python\\Multi-Field-Dark-Energy\\stability_class.py\u001b[0m in \u001b[0;36m__init__\u001b[1;34m(self, N_min, N_max, params, gamma, potential, metric)\u001b[0m\n\u001b[0;32m     31\u001b[0m         \u001b[0mself\u001b[0m\u001b[1;33m.\u001b[0m\u001b[0mgamma\u001b[0m \u001b[1;33m=\u001b[0m \u001b[0mgamma\u001b[0m\u001b[1;33m\u001b[0m\u001b[1;33m\u001b[0m\u001b[0m\n\u001b[0;32m     32\u001b[0m \u001b[1;33m\u001b[0m\u001b[0m\n\u001b[1;32m---> 33\u001b[1;33m         \u001b[1;32mif\u001b[0m \u001b[0mself\u001b[0m\u001b[1;33m.\u001b[0m\u001b[0mparams\u001b[0m\u001b[1;33m[\u001b[0m\u001b[1;34m'potential'\u001b[0m\u001b[1;33m]\u001b[0m \u001b[1;33m==\u001b[0m \u001b[1;34m'spinning'\u001b[0m \u001b[1;32mor\u001b[0m \u001b[0mself\u001b[0m\u001b[1;33m.\u001b[0m\u001b[0mparams\u001b[0m\u001b[1;33m[\u001b[0m\u001b[1;34m'potential'\u001b[0m\u001b[1;33m]\u001b[0m \u001b[1;33m==\u001b[0m \u001b[1;34m'exp_spinning'\u001b[0m\u001b[1;33m:\u001b[0m\u001b[1;33m\u001b[0m\u001b[1;33m\u001b[0m\u001b[0m\n\u001b[0m\u001b[0;32m     34\u001b[0m             \u001b[1;32mif\u001b[0m \u001b[0mself\u001b[0m\u001b[1;33m.\u001b[0m\u001b[0mparams\u001b[0m\u001b[1;33m[\u001b[0m\u001b[1;34m'metric'\u001b[0m\u001b[1;33m]\u001b[0m \u001b[1;33m==\u001b[0m \u001b[1;34m'exp'\u001b[0m\u001b[1;33m:\u001b[0m\u001b[1;33m\u001b[0m\u001b[1;33m\u001b[0m\u001b[0m\n\u001b[0;32m     35\u001b[0m                 \u001b[0mphi\u001b[0m \u001b[1;33m=\u001b[0m \u001b[0mself\u001b[0m\u001b[1;33m.\u001b[0m\u001b[0mparams\u001b[0m\u001b[1;33m[\u001b[0m\u001b[1;34m'r_init'\u001b[0m\u001b[1;33m]\u001b[0m\u001b[1;33m\u001b[0m\u001b[1;33m\u001b[0m\u001b[0m\n",
      "\u001b[1;31mKeyError\u001b[0m: 'potential'"
     ]
    },
    {
     "data": {
      "text/plain": [
       "<Figure size 432x288 with 0 Axes>"
      ]
     },
     "metadata": {},
     "output_type": "display_data"
    }
   ],
   "source": [
    "from stability_class import MultiFieldDarkEnergy\n",
    "import matplotlib.pyplot as plt\n",
    "import numpy as np\n",
    "from matplotlib.patches import Ellipse\n",
    "\n",
    "\n",
    "params = {\n",
    "    'V0': 2.15,\n",
    "    'm': 50,\n",
    "    'r0': 0,\n",
    "    'alpha': np.sqrt(2),\n",
    "    'x_p_init': 0.0,\n",
    "    'x_t_init': 0.0,\n",
    "    'y_1_init': 1e-5,\n",
    "    'r_init': 0,\n",
    "    'beta': 800,\n",
    "    'f0': 1,\n",
    "    'cosmo_constant': 0\n",
    "}\n",
    "\n",
    "r0_range = [0]\n",
    "colors = ['red', 'blue', 'green']\n",
    "plt.figure()\n",
    "for i, r0 in enumerate(r0_range):\n",
    "    params['r0'] = r0\n",
    "    #params['V0'] = V0\n",
    "    c = MultiFieldDarkEnergy(metric='exp', potential='exp_spinning', params=params, N_min = 0, N_max = 40, gamma=1)\n",
    "    c.run_background_eq_of_motion()\n",
    "    c.x_y_phase_plot()\n",
    "    c.plot_swampland_bound()\n",
    "\n",
    "    print('De Sitter Bound Lowest', min(c.get_de_sitter_bound()))\n",
    "    field_derivative, delta_phi = c.get_field_derivative()\n",
    "    print('Delta phi:', delta_phi)\n",
    "    size = len(c.get_eq_of_state())\n",
    "    w = c.get_eq_of_state()\n",
    "    omega = c.get_omega_phi()\n",
    "    N = c.sol['t']\n",
    "    delta_phi_n = -1\n",
    "    for j in range(size):\n",
    "        cur = np.trapz(np.sqrt(3)*np.sqrt((1+w[:j])*omega[:j]), N[:j])\n",
    "        if cur > 1:\n",
    "            delta_phi_n = j\n",
    "            break\n",
    "    print(w[delta_phi_n], omega[delta_phi_n])\n",
    "    plt.plot(w, omega, label=r\"$x_r = x_{\\theta} = $\"+str(r0) +'\\n dSB: '+\"{:.2f}\".format(min(c.get_de_sitter_bound())), color=colors[i])\n",
    "    if delta_phi_n>0 :plt.plot(w[delta_phi_n], omega[delta_phi_n], 'go', color='black')\n",
    "plt.xlim([-1.02, -0.4])\n",
    "plt.ylim([-0.05, 1.05])\n",
    "cur_uni = Ellipse(xy=(-1, 0.7), width=0.065, height=0.02, \n",
    "                        edgecolor='black', fc='black', lw=2)#, zorder=100)\n",
    "ax = plt.gca()\n",
    "ax.add_patch(cur_uni)\n",
    "plt.xlabel(r'$w_{\\phi}$')\n",
    "plt.ylabel(r'$\\Omega_{\\phi}$')\n",
    "plt.title(r'$f(r) =e^{\\beta r}$')\n",
    "plt.legend()\n",
    "#plt.savefig('img/exp_spinning_p_-2_r_init.pdf', bbox_inches = 'tight')\n",
    "\n",
    "plt.show()"
   ]
  },
  {
   "cell_type": "code",
   "execution_count": 17,
   "metadata": {},
   "outputs": [
    {
     "name": "stdout",
     "output_type": "stream",
     "text": [
      "0\n",
      "1\n",
      "2\n",
      "3\n",
      "4\n",
      "5\n",
      "6\n",
      "7\n",
      "8\n",
      "9\n"
     ]
    },
    {
     "data": {
      "image/png": "[encoded data removed]",
      "text/plain": [
       "<Figure size 432x288 with 1 Axes>"
      ]
     },
     "metadata": {
      "needs_background": "light"
     },
     "output_type": "display_data"
    }
   ],
   "source": [
    "from shapely.geometry import Point\n",
    "from shapely.geometry.polygon import Polygon\n",
    "\n",
    "params = {\n",
    "    'Omega_M_0': 0.3,\n",
    "    'Omega_R_0': 6e-5,\n",
    "    'V0': 2.15,\n",
    "    'm': 10,\n",
    "    'r0': 0,\n",
    "    'alpha': 1*1e-3,\n",
    "    'x_p_init': 0.0,\n",
    "    'x_t_init': 0.0,\n",
    "    'y_1_init': 1e-5,\n",
    "    'p': 2,\n",
    "    'r_init_multiplier': 1,\n",
    "    'cosmo_constant': 0,\n",
    "    'f0': 5e-7,\n",
    "    'beta': 400,\n",
    "}\n",
    "\n",
    "cur_time = Polygon([(-1.05, 0.65), (-0.98, 0.75), (-0.98, 0.65), (-1.05, 0.75)])\n",
    "\n",
    "length = 10\n",
    "list_accepted = np.zeros((length, length))\n",
    "\n",
    "beta_range = np.linspace(0, 20000, length)\n",
    "m_range = np.linspace(0, 2000, length)\n",
    "\n",
    "colors = ['red', 'blue']\n",
    "plt.figure()\n",
    "for i, beta in enumerate(beta_range):\n",
    "    print(i)\n",
    "    for j, m in enumerate(m_range):\n",
    "        params['beta'] = beta\n",
    "        params['m'] = m\n",
    "        c = MultiFieldDarkEnergy(metric='exp', potential='exp_spinning', params=params, N_min = 0, N_max = 9, gamma=1)\n",
    "        c.run_background_eq_of_motion()\n",
    "        #c.plot_swampland_bound()\n",
    "        field_derivative, delta_phi = c.get_field_derivative()\n",
    "        size = len(c.get_eq_of_state())\n",
    "        w = c.get_eq_of_state()\n",
    "        omega = c.get_omega_phi()\n",
    "        N = c.sol['t']\n",
    "        cur_param = 0.5\n",
    "        if min(c.get_de_sitter_bound()) < 0.5:\n",
    "            cur_param = 0\n",
    "            #print(p, m)\n",
    "            #print('De Sitter violated', min(c.get_de_sitter_bound()))\n",
    "        else:\n",
    "            for k in range(size):\n",
    "                point = Point(w[k], omega[k])\n",
    "                if cur_time.contains(point):\n",
    "                    # This solution has once been in omega=0.7 w=-1\n",
    "                    #print('H:', c.get_H()[k])\n",
    "                    cur = np.trapz(np.sqrt(3)*np.sqrt((1+w[:k])*omega[:k]), N[:k])\n",
    "                    # cur = delta phi at omega=0.7 w=-1\n",
    "                    cur_param = 0.5 + cur\n",
    "                    if cur > 1:\n",
    "                        cur_param= 1\n",
    "                        print\n",
    "                    break\n",
    "                elif k == size-1:\n",
    "                    # This solution has NEVER been in omega=0.7 w=-1\n",
    "                    cur_param = 1\n",
    "        if omega[size-1] < 0.9 and w[size-1] < -0.8:\n",
    "            cur_param=-1        \n",
    "        list_accepted[i, j] = cur_param\n",
    "        #if cur_param == 1:\n",
    "        #    print('Last eq of state:', w[size-1])\n",
    "        #print(cur_param, p, m)\n",
    "\n",
    "\n",
    "plt.xlabel(r'$m [H_0]$')\n",
    "plt.ylabel(r'$\\beta$')\n",
    "plt.imshow(list_accepted, origin = 'lower', extent=[np.amin(m_range), np.amax(m_range), np.amin(beta_range), np.amax(beta_range)], aspect='auto',cmap='RdGy')\n",
    "#plt.colorbar()\n",
    "\n",
    "#plt.savefig('img/exp_metric/color_vary_m_beta.pdf', bbox_inches = 'tight')\n",
    "\n",
    "plt.show()"
   ]
  },
  {
   "cell_type": "code",
   "execution_count": 28,
   "metadata": {},
   "outputs": [
    {
     "name": "stdout",
     "output_type": "stream",
     "text": [
      "0\n",
      "1\n",
      "2\n",
      "3\n",
      "4\n",
      "5\n",
      "6\n",
      "7\n",
      "8\n",
      "9\n"
     ]
    },
    {
     "data": {
      "image/png": "[encoded data removed]",
      "text/plain": [
       "<Figure size 432x288 with 1 Axes>"
      ]
     },
     "metadata": {
      "needs_background": "light"
     },
     "output_type": "display_data"
    }
   ],
   "source": [
    "from shapely.geometry import Point\n",
    "from shapely.geometry.polygon import Polygon\n",
    "\n",
    "params = {\n",
    "    'Omega_M_0': 0.3,\n",
    "    'Omega_R_0': 6e-5,\n",
    "    'V0': 2.15,\n",
    "    'm': 10,\n",
    "    'r0': 0,\n",
    "    'alpha': 1*1e-3,\n",
    "    'x_p_init': 0.0,\n",
    "    'x_t_init': 0.0,\n",
    "    'y_1_init': 1e-5,\n",
    "    'p': 2,\n",
    "    'r_init_multiplier': 1,\n",
    "    'cosmo_constant': 0,\n",
    "    'f0': 5e-7,\n",
    "    'beta': 1000,\n",
    "}\n",
    "\n",
    "cur_time = Polygon([(-1.05, 0.65), (-0.98, 0.75), (-0.98, 0.65), (-1.05, 0.75)])\n",
    "\n",
    "length = 10\n",
    "list_accepted = np.zeros((length, length))\n",
    "\n",
    "alpha_range = np.linspace(1e-4, 8e-3, length)\n",
    "m_range = np.linspace(0, 150, length)\n",
    "\n",
    "colors = ['red', 'blue']\n",
    "plt.figure()\n",
    "for i, alpha in enumerate(alpha_range):\n",
    "    print(i)\n",
    "    for j, m in enumerate(m_range):\n",
    "        params['alpha'] = alpha\n",
    "        params['m'] = m\n",
    "        c = MultiFieldDarkEnergy(metric='exp', potential='exp_spinning', params=params, N_min = 0, N_max = 9, gamma=1)\n",
    "        c.run_background_eq_of_motion()\n",
    "        #c.plot_swampland_bound()\n",
    "        field_derivative, delta_phi = c.get_field_derivative()\n",
    "        size = len(c.get_eq_of_state())\n",
    "        w = c.get_eq_of_state()\n",
    "        omega = c.get_omega_phi()\n",
    "        N = c.sol['t']\n",
    "        cur_param = 0.5\n",
    "        if min(c.get_de_sitter_bound()) < 0.5:\n",
    "            cur_param = 0\n",
    "            #print(p, m)\n",
    "            #print('De Sitter violated', min(c.get_de_sitter_bound()))\n",
    "        else:\n",
    "            for k in range(size):\n",
    "                point = Point(w[k], omega[k])\n",
    "                if cur_time.contains(point):\n",
    "                    # This solution has once been in omega=0.7 w=-1\n",
    "                    #print('H:', c.get_H()[k])\n",
    "                    cur = np.trapz(np.sqrt(3)*np.sqrt((1+w[:k])*omega[:k]), N[:k])\n",
    "                    # cur = delta phi at omega=0.7 w=-1\n",
    "                    cur_param = 0.5 + cur\n",
    "                    if cur > 1:\n",
    "                        cur_param= 1\n",
    "                        print\n",
    "                    break\n",
    "                elif k == size-1:\n",
    "                    # This solution has NEVER been in omega=0.7 w=-1\n",
    "                    cur_param = 1\n",
    "        if omega[size-1] < 0.9 and w[size-1] < -0.8:\n",
    "            cur_param=-1        \n",
    "        list_accepted[i, j] = cur_param\n",
    "        #if cur_param == 1:\n",
    "        #    print('Last eq of state:', w[size-1])\n",
    "        #print(cur_param, p, m)\n",
    "\n",
    "\n",
    "plt.xlabel(r'$m [H_0]$')\n",
    "plt.ylabel(r'$\\alpha$')\n",
    "plt.imshow(list_accepted, origin = 'lower', extent=[np.amin(m_range), np.amax(m_range), np.amin(alpha_range), np.amax(alpha_range)], aspect='auto',cmap='RdGy')\n",
    "#plt.colorbar()\n",
    "\n",
    "plt.savefig('img/exp_metric/color_vary_m_alpha.pdf', bbox_inches = 'tight')\n",
    "\n",
    "plt.show()"
   ]
  }
 ],
 "metadata": {
  "interpreter": {
   "hash": "31f2aee4e71d21fbe5cf8b01ff0e069b9275f58929596ceb00d14d90e3e16cd6"
  },
  "kernelspec": {
   "display_name": "Python 3.6.9 64-bit",
   "name": "python3"
  },
  "language_info": {
   "codemirror_mode": {
    "name": "ipython",
    "version": 3
   },
   "file_extension": ".py",
   "mimetype": "text/x-python",
   "name": "python",
   "nbconvert_exporter": "python",
   "pygments_lexer": "ipython3",
   "version": "3.9.7"
  },
  "metadata": {
   "interpreter": {
    "hash": "31f2aee4e71d21fbe5cf8b01ff0e069b9275f58929596ceb00d14d90e3e16cd6"
   }
  },
  "orig_nbformat": 2
 },
 "nbformat": 4,
 "nbformat_minor": 2
}
