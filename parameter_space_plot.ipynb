{
 "cells": [
  {
   "cell_type": "code",
   "execution_count": 8,
   "metadata": {},
   "outputs": [
    {
     "name": "stdout",
     "output_type": "stream",
     "text": [
      "[1.  1.5 2.  2.5 3. ]\n",
      "De Sitter Bound Lowest 0.03198887409651283\n",
      "Delta phi: 0.016531443408703595\n",
      "De Sitter Bound Lowest 0.034536807974269286\n",
      "Delta phi: 0.02040467768748791\n",
      "De Sitter Bound Lowest 0.03457496232575025\n",
      "Delta phi: 0.02149956440409993\n",
      "De Sitter Bound Lowest 0.03458046413625135\n",
      "Delta phi: 0.02194242190550605\n",
      "De Sitter Bound Lowest 0.03458046413625135\n",
      "Delta phi: 0.022158286820791184\n",
      "De Sitter Bound Lowest 0.11328914968450196\n",
      "Delta phi: 0.04501630969438248\n",
      "De Sitter Bound Lowest 0.19766646507647062\n",
      "Delta phi: 0.0687559251310001\n",
      "De Sitter Bound Lowest 0.21008644765109669\n",
      "Delta phi: 0.08213968438623541\n",
      "De Sitter Bound Lowest 0.21195418443480932\n",
      "Delta phi: 0.09141884061259775\n",
      "De Sitter Bound Lowest 0.21235702473807225\n",
      "Delta phi: 0.09839166282139984\n",
      "De Sitter Bound Lowest 0.2675747213864933\n",
      "Delta phi: 0.0904335227334144\n",
      "De Sitter Bound Lowest 0.7207143671903924\n",
      "Delta phi: 0.15457921438299213\n",
      "De Sitter Bound Lowest 1.0003167522986323\n",
      "Delta phi: 0.19685175925611315\n",
      "De Sitter Bound Lowest 1.1539072710150506\n",
      "Delta phi: 0.22993202437573446\n",
      "De Sitter Bound Lowest 1.2286900939407752\n",
      "Delta phi: 0.25759157301026137\n",
      "De Sitter Bound Lowest 0.5075923480790068\n",
      "Delta phi: 0.15179609816547154\n",
      "De Sitter Bound Lowest 1.715779070623621\n",
      "Delta phi: 0.2788912585829615\n",
      "De Sitter Bound Lowest 2.821708257940838\n",
      "Delta phi: 0.36833397483348285\n",
      "De Sitter Bound Lowest 3.792552226653388\n",
      "Delta phi: 0.44111957169031174\n",
      "De Sitter Bound Lowest 4.628394052857659\n",
      "Delta phi: 0.5037067420014545\n",
      "De Sitter Bound Lowest 0.8653196693087437\n",
      "Delta phi: 0.22650891057632386\n",
      "De Sitter Bound Lowest 3.3677077875634067\n",
      "Delta phi: 0.4383007447383552\n",
      "De Sitter Bound Lowest 6.040521165137642\n",
      "Delta phi: 0.5915481825692754\n",
      "De Sitter Bound Lowest 8.721602868770859\n",
      "Delta phi: 0.7148630893074519\n"
     ]
    },
    {
     "name": "stderr",
     "output_type": "stream",
     "text": [
      "No handles with labels found to put in legend.\n"
     ]
    },
    {
     "name": "stdout",
     "output_type": "stream",
     "text": [
      "De Sitter Bound Lowest 11.345455591818235\n",
      "Delta phi: 0.8155773287831802\n"
     ]
    },
    {
     "data": {
      "image/png": "[encoded data removed]",
      "text/plain": "<Figure size 432x288 with 1 Axes>"
     },
     "metadata": {
      "needs_background": "light"
     },
     "output_type": "display_data"
    }
   ],
   "source": [
    "from stability_class import MultiFieldDarkEnergy\n",
    "import matplotlib.pyplot as plt\n",
    "import numpy as np\n",
    "from matplotlib.patches import Ellipse\n",
    "from shapely.geometry import Point\n",
    "from shapely.geometry.polygon import Polygon\n",
    "\n",
    "params = {\n",
    "    'Omega_M_0': 0.3,\n",
    "    'Omega_R_0': 6e-5,\n",
    "    'V0': 2.186,\n",
    "    'm': 10,\n",
    "    'r0': 7*1e-4,\n",
    "    'alpha': 2/2.186*1e-3,\n",
    "    'x_p_init': 1e-6,\n",
    "    'x_t_init': 1e-6,\n",
    "    'y_1_init': 1e-6,\n",
    "    'p': 3,\n",
    "    'r_init_multiplier': 1,\n",
    "    'cosmo_constant': 0,\n",
    "}\n",
    "\n",
    "cur_time = Polygon([(-1.05, 0.65), (-0.95, 0.75), (-0.95, 0.65), (-1.05, 0.75)])\n",
    "\n",
    "bins = 5\n",
    "list_accepted = np.zeros((bins, bins))\n",
    "p_range = np.linspace(1, 3, bins)\n",
    "print(p_range)\n",
    "m_range = np.linspace(10, 100, bins)\n",
    "colors = ['red', 'blue']\n",
    "plt.figure()\n",
    "for i, p in enumerate(p_range):\n",
    "    for j, m in enumerate(m_range):\n",
    "        params['p'] = p\n",
    "        params['m'] = m\n",
    "        c = MultiFieldDarkEnergy(metric='r_p', potential='exp_spinning', params=params, N_min = 0, N_max = 10, gamma=1)\n",
    "        c.run_background_eq_of_motion()\n",
    "        #c.plot_swampland_bound()\n",
    "        print('De Sitter Bound Lowest', min(c.get_de_sitter_bound()))\n",
    "        field_derivative, delta_phi = c.get_field_derivative()\n",
    "        print('Delta phi:', delta_phi)\n",
    "        size = len(c.get_eq_of_state())\n",
    "        w = c.get_eq_of_state()\n",
    "        omega = c.get_omega_phi()\n",
    "\n",
    "        cur_param = 1\n",
    "        for k in range(size):\n",
    "            point = Point(w[k], omega[k])\n",
    "            if cur_time.contains(point):\n",
    "                break\n",
    "            if k == size:\n",
    "                cur_param=0\n",
    "        list_accepted[i, j] = cur_param\n",
    "\n",
    "\n",
    "plt.plot(list_accepted)\n",
    "plt.legend()\n",
    "#plt.savefig('img/exp_spinning_p_-2_y1_10-5.pdf', bbox_inches = 'tight')\n",
    "\n",
    "plt.show()"
   ]
  }
 ],
 "metadata": {
  "kernelspec": {
   "display_name": "Python 3.6.9 64-bit",
   "name": "python369jvsc74a57bd031f2aee4e71d21fbe5cf8b01ff0e069b9275f58929596ceb00d14d90e3e16cd6"
  },
  "language_info": {
   "codemirror_mode": {
    "name": "ipython",
    "version": 3
   },
   "file_extension": ".py",
   "mimetype": "text/x-python",
   "name": "python",
   "nbconvert_exporter": "python",
   "pygments_lexer": "ipython3",
   "version": "3.6.9"
  },
  "metadata": {
   "interpreter": {
    "hash": "31f2aee4e71d21fbe5cf8b01ff0e069b9275f58929596ceb00d14d90e3e16cd6"
   }
  },
  "orig_nbformat": 2
 },
 "nbformat": 4,
 "nbformat_minor": 2
}